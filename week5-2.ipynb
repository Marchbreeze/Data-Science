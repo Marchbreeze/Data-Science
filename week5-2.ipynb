{
  "nbformat": 4,
  "nbformat_minor": 0,
  "metadata": {
    "colab": {
      "provenance": [],
      "authorship_tag": "ABX9TyPSXXTc24GrfOcZcEI0o8hJ",
      "include_colab_link": true
    },
    "kernelspec": {
      "name": "python3",
      "display_name": "Python 3"
    },
    "language_info": {
      "name": "python"
    }
  },
  "cells": [
    {
      "cell_type": "markdown",
      "metadata": {
        "id": "view-in-github",
        "colab_type": "text"
      },
      "source": [
        "<a href=\"https://colab.research.google.com/github/Marchbreeze/KU-Data-Science/blob/main/week5-2.ipynb\" target=\"_parent\"><img src=\"https://colab.research.google.com/assets/colab-badge.svg\" alt=\"Open In Colab\"/></a>"
      ]
    },
    {
      "cell_type": "code",
      "execution_count": 1,
      "metadata": {
        "colab": {
          "base_uri": "https://localhost:8080/"
        },
        "id": "gL0_spvBoraI",
        "outputId": "6009935c-14bc-4c69-abf6-e7ff3c8e692a"
      },
      "outputs": [
        {
          "output_type": "stream",
          "name": "stdout",
          "text": [
            "Requirement already satisfied: graphviz in /usr/local/lib/python3.10/dist-packages (0.20.3)\n"
          ]
        }
      ],
      "source": [
        "# 트리 시각화 위한 라이브러리 설치\n",
        "!pip install graphviz"
      ]
    },
    {
      "cell_type": "code",
      "source": [
        "# 주요 라이브러리 불러오기\n",
        "import pandas as pd\n",
        "from sklearn.tree import DecisionTreeClassifier\n",
        "from sklearn.tree import export_graphviz\n",
        "import graphviz"
      ],
      "metadata": {
        "id": "7plxu4WNujzs"
      },
      "execution_count": 2,
      "outputs": []
    },
    {
      "cell_type": "code",
      "source": [
        "# DataFrame 제어\n",
        "df = pd.read_excel('telecom.xlsx')\n",
        "df = pd.get_dummies(df, columns = ['Technology'])\n",
        "df_x = df.iloc[:, [0, 1, 2, 4, 5, 6, 7]]\n",
        "df_y = df['Leave']"
      ],
      "metadata": {
        "id": "NRTrTtKLuoBW"
      },
      "execution_count": 3,
      "outputs": []
    },
    {
      "cell_type": "code",
      "source": [
        "# 의사결정 트리 생성\n",
        "tree_model = DecisionTreeClassifier(criterion = 'gini',\n",
        "                                    max_depth = 3,\n",
        "                                    min_samples_leaf = 5)\n",
        "tree_model.fit(df_x, df_y)\n",
        ""
      ],
      "metadata": {
        "colab": {
          "base_uri": "https://localhost:8080/",
          "height": 75
        },
        "id": "En0RHsCHu0Ip",
        "outputId": "4cf8aada-a72b-4061-97cd-db8f14cdc1d6"
      },
      "execution_count": 5,
      "outputs": [
        {
          "output_type": "execute_result",
          "data": {
            "text/plain": [
              "DecisionTreeClassifier(max_depth=3, min_samples_leaf=5)"
            ],
            "text/html": [
              "<style>#sk-container-id-2 {color: black;background-color: white;}#sk-container-id-2 pre{padding: 0;}#sk-container-id-2 div.sk-toggleable {background-color: white;}#sk-container-id-2 label.sk-toggleable__label {cursor: pointer;display: block;width: 100%;margin-bottom: 0;padding: 0.3em;box-sizing: border-box;text-align: center;}#sk-container-id-2 label.sk-toggleable__label-arrow:before {content: \"▸\";float: left;margin-right: 0.25em;color: #696969;}#sk-container-id-2 label.sk-toggleable__label-arrow:hover:before {color: black;}#sk-container-id-2 div.sk-estimator:hover label.sk-toggleable__label-arrow:before {color: black;}#sk-container-id-2 div.sk-toggleable__content {max-height: 0;max-width: 0;overflow: hidden;text-align: left;background-color: #f0f8ff;}#sk-container-id-2 div.sk-toggleable__content pre {margin: 0.2em;color: black;border-radius: 0.25em;background-color: #f0f8ff;}#sk-container-id-2 input.sk-toggleable__control:checked~div.sk-toggleable__content {max-height: 200px;max-width: 100%;overflow: auto;}#sk-container-id-2 input.sk-toggleable__control:checked~label.sk-toggleable__label-arrow:before {content: \"▾\";}#sk-container-id-2 div.sk-estimator input.sk-toggleable__control:checked~label.sk-toggleable__label {background-color: #d4ebff;}#sk-container-id-2 div.sk-label input.sk-toggleable__control:checked~label.sk-toggleable__label {background-color: #d4ebff;}#sk-container-id-2 input.sk-hidden--visually {border: 0;clip: rect(1px 1px 1px 1px);clip: rect(1px, 1px, 1px, 1px);height: 1px;margin: -1px;overflow: hidden;padding: 0;position: absolute;width: 1px;}#sk-container-id-2 div.sk-estimator {font-family: monospace;background-color: #f0f8ff;border: 1px dotted black;border-radius: 0.25em;box-sizing: border-box;margin-bottom: 0.5em;}#sk-container-id-2 div.sk-estimator:hover {background-color: #d4ebff;}#sk-container-id-2 div.sk-parallel-item::after {content: \"\";width: 100%;border-bottom: 1px solid gray;flex-grow: 1;}#sk-container-id-2 div.sk-label:hover label.sk-toggleable__label {background-color: #d4ebff;}#sk-container-id-2 div.sk-serial::before {content: \"\";position: absolute;border-left: 1px solid gray;box-sizing: border-box;top: 0;bottom: 0;left: 50%;z-index: 0;}#sk-container-id-2 div.sk-serial {display: flex;flex-direction: column;align-items: center;background-color: white;padding-right: 0.2em;padding-left: 0.2em;position: relative;}#sk-container-id-2 div.sk-item {position: relative;z-index: 1;}#sk-container-id-2 div.sk-parallel {display: flex;align-items: stretch;justify-content: center;background-color: white;position: relative;}#sk-container-id-2 div.sk-item::before, #sk-container-id-2 div.sk-parallel-item::before {content: \"\";position: absolute;border-left: 1px solid gray;box-sizing: border-box;top: 0;bottom: 0;left: 50%;z-index: -1;}#sk-container-id-2 div.sk-parallel-item {display: flex;flex-direction: column;z-index: 1;position: relative;background-color: white;}#sk-container-id-2 div.sk-parallel-item:first-child::after {align-self: flex-end;width: 50%;}#sk-container-id-2 div.sk-parallel-item:last-child::after {align-self: flex-start;width: 50%;}#sk-container-id-2 div.sk-parallel-item:only-child::after {width: 0;}#sk-container-id-2 div.sk-dashed-wrapped {border: 1px dashed gray;margin: 0 0.4em 0.5em 0.4em;box-sizing: border-box;padding-bottom: 0.4em;background-color: white;}#sk-container-id-2 div.sk-label label {font-family: monospace;font-weight: bold;display: inline-block;line-height: 1.2em;}#sk-container-id-2 div.sk-label-container {text-align: center;}#sk-container-id-2 div.sk-container {/* jupyter's `normalize.less` sets `[hidden] { display: none; }` but bootstrap.min.css set `[hidden] { display: none !important; }` so we also need the `!important` here to be able to override the default hidden behavior on the sphinx rendered scikit-learn.org. See: https://github.com/scikit-learn/scikit-learn/issues/21755 */display: inline-block !important;position: relative;}#sk-container-id-2 div.sk-text-repr-fallback {display: none;}</style><div id=\"sk-container-id-2\" class=\"sk-top-container\"><div class=\"sk-text-repr-fallback\"><pre>DecisionTreeClassifier(max_depth=3, min_samples_leaf=5)</pre><b>In a Jupyter environment, please rerun this cell to show the HTML representation or trust the notebook. <br />On GitHub, the HTML representation is unable to render, please try loading this page with nbviewer.org.</b></div><div class=\"sk-container\" hidden><div class=\"sk-item\"><div class=\"sk-estimator sk-toggleable\"><input class=\"sk-toggleable__control sk-hidden--visually\" id=\"sk-estimator-id-2\" type=\"checkbox\" checked><label for=\"sk-estimator-id-2\" class=\"sk-toggleable__label sk-toggleable__label-arrow\">DecisionTreeClassifier</label><div class=\"sk-toggleable__content\"><pre>DecisionTreeClassifier(max_depth=3, min_samples_leaf=5)</pre></div></div></div></div></div>"
            ]
          },
          "metadata": {},
          "execution_count": 5
        }
      ]
    },
    {
      "cell_type": "code",
      "source": [
        "# 의사결정 트리 시각화\n",
        "dot_data = export_graphviz(tree_model, out_file = None,\n",
        "                           feature_names = df_x.columns,\n",
        "                           class_names = tree_model.classes_,\n",
        "                           filled = True, rounded = True,\n",
        "                           special_characters = True)\n",
        "graph = graphviz.Source(dot_data)\n",
        "graph"
      ],
      "metadata": {
        "colab": {
          "base_uri": "https://localhost:8080/",
          "height": 619
        },
        "id": "kdcI-616u8Np",
        "outputId": "859e1383-54fc-4d02-a04d-743edb79ec47"
      },
      "execution_count": 6,
      "outputs": [
        {
          "output_type": "execute_result",
          "data": {
            "image/svg+xml": "<?xml version=\"1.0\" encoding=\"UTF-8\" standalone=\"no\"?>\n<!DOCTYPE svg PUBLIC \"-//W3C//DTD SVG 1.1//EN\"\n \"http://www.w3.org/Graphics/SVG/1.1/DTD/svg11.dtd\">\n<!-- Generated by graphviz version 2.43.0 (0)\n -->\n<!-- Title: Tree Pages: 1 -->\n<svg width=\"1068pt\" height=\"433pt\"\n viewBox=\"0.00 0.00 1067.50 433.00\" xmlns=\"http://www.w3.org/2000/svg\" xmlns:xlink=\"http://www.w3.org/1999/xlink\">\n<g id=\"graph0\" class=\"graph\" transform=\"scale(1 1) rotate(0) translate(4 429)\">\n<title>Tree</title>\n<polygon fill=\"white\" stroke=\"transparent\" points=\"-4,4 -4,-429 1063.5,-429 1063.5,4 -4,4\"/>\n<!-- 0 -->\n<g id=\"node1\" class=\"node\">\n<title>0</title>\n<path fill=\"#ea995e\" stroke=\"black\" d=\"M577.5,-425C577.5,-425 469.5,-425 469.5,-425 463.5,-425 457.5,-419 457.5,-413 457.5,-413 457.5,-354 457.5,-354 457.5,-348 463.5,-342 469.5,-342 469.5,-342 577.5,-342 577.5,-342 583.5,-342 589.5,-348 589.5,-354 589.5,-354 589.5,-413 589.5,-413 589.5,-419 583.5,-425 577.5,-425\"/>\n<text text-anchor=\"start\" x=\"471\" y=\"-409.8\" font-family=\"Helvetica,sans-Serif\" font-size=\"14.00\">CenterCalls ≤ 2.5</text>\n<text text-anchor=\"start\" x=\"488\" y=\"-394.8\" font-family=\"Helvetica,sans-Serif\" font-size=\"14.00\">gini = 0.267</text>\n<text text-anchor=\"start\" x=\"475\" y=\"-379.8\" font-family=\"Helvetica,sans-Serif\" font-size=\"14.00\">samples = 4000</text>\n<text text-anchor=\"start\" x=\"465.5\" y=\"-364.8\" font-family=\"Helvetica,sans-Serif\" font-size=\"14.00\">value = [3365, 635]</text>\n<text text-anchor=\"start\" x=\"489.5\" y=\"-349.8\" font-family=\"Helvetica,sans-Serif\" font-size=\"14.00\">class = NO</text>\n</g>\n<!-- 1 -->\n<g id=\"node2\" class=\"node\">\n<title>1</title>\n<path fill=\"#e78945\" stroke=\"black\" d=\"M445.5,-306C445.5,-306 337.5,-306 337.5,-306 331.5,-306 325.5,-300 325.5,-294 325.5,-294 325.5,-235 325.5,-235 325.5,-229 331.5,-223 337.5,-223 337.5,-223 445.5,-223 445.5,-223 451.5,-223 457.5,-229 457.5,-235 457.5,-235 457.5,-294 457.5,-294 457.5,-300 451.5,-306 445.5,-306\"/>\n<text text-anchor=\"start\" x=\"336.5\" y=\"-290.8\" font-family=\"Helvetica,sans-Serif\" font-size=\"14.00\">AverageBill ≤ 26.5</text>\n<text text-anchor=\"start\" x=\"359.5\" y=\"-275.8\" font-family=\"Helvetica,sans-Serif\" font-size=\"14.00\">gini = 0.11</text>\n<text text-anchor=\"start\" x=\"343\" y=\"-260.8\" font-family=\"Helvetica,sans-Serif\" font-size=\"14.00\">samples = 2883</text>\n<text text-anchor=\"start\" x=\"333.5\" y=\"-245.8\" font-family=\"Helvetica,sans-Serif\" font-size=\"14.00\">value = [2715, 168]</text>\n<text text-anchor=\"start\" x=\"357.5\" y=\"-230.8\" font-family=\"Helvetica,sans-Serif\" font-size=\"14.00\">class = NO</text>\n</g>\n<!-- 0&#45;&gt;1 -->\n<g id=\"edge1\" class=\"edge\">\n<title>0&#45;&gt;1</title>\n<path fill=\"none\" stroke=\"black\" d=\"M477.7,-341.91C467.16,-332.56 455.85,-322.54 445.01,-312.93\"/>\n<polygon fill=\"black\" stroke=\"black\" points=\"447.02,-310.03 437.22,-306.02 442.38,-315.27 447.02,-310.03\"/>\n<text text-anchor=\"middle\" x=\"438.72\" y=\"-327.28\" font-family=\"Helvetica,sans-Serif\" font-size=\"14.00\">True</text>\n</g>\n<!-- 8 -->\n<g id=\"node9\" class=\"node\">\n<title>8</title>\n<path fill=\"#f8dcc7\" stroke=\"black\" d=\"M708.5,-306C708.5,-306 606.5,-306 606.5,-306 600.5,-306 594.5,-300 594.5,-294 594.5,-294 594.5,-235 594.5,-235 594.5,-229 600.5,-223 606.5,-223 606.5,-223 708.5,-223 708.5,-223 714.5,-223 720.5,-229 720.5,-235 720.5,-235 720.5,-294 720.5,-294 720.5,-300 714.5,-306 708.5,-306\"/>\n<text text-anchor=\"start\" x=\"602.5\" y=\"-290.8\" font-family=\"Helvetica,sans-Serif\" font-size=\"14.00\">AverageBill ≤ 55.5</text>\n<text text-anchor=\"start\" x=\"622\" y=\"-275.8\" font-family=\"Helvetica,sans-Serif\" font-size=\"14.00\">gini = 0.487</text>\n<text text-anchor=\"start\" x=\"609\" y=\"-260.8\" font-family=\"Helvetica,sans-Serif\" font-size=\"14.00\">samples = 1117</text>\n<text text-anchor=\"start\" x=\"603\" y=\"-245.8\" font-family=\"Helvetica,sans-Serif\" font-size=\"14.00\">value = [650, 467]</text>\n<text text-anchor=\"start\" x=\"623.5\" y=\"-230.8\" font-family=\"Helvetica,sans-Serif\" font-size=\"14.00\">class = NO</text>\n</g>\n<!-- 0&#45;&gt;8 -->\n<g id=\"edge8\" class=\"edge\">\n<title>0&#45;&gt;8</title>\n<path fill=\"none\" stroke=\"black\" d=\"M569.99,-341.91C580.8,-332.47 592.4,-322.34 603.5,-312.65\"/>\n<polygon fill=\"black\" stroke=\"black\" points=\"605.86,-315.23 611.09,-306.02 601.26,-309.96 605.86,-315.23\"/>\n<text text-anchor=\"middle\" x=\"609.4\" y=\"-327.26\" font-family=\"Helvetica,sans-Serif\" font-size=\"14.00\">False</text>\n</g>\n<!-- 2 -->\n<g id=\"node3\" class=\"node\">\n<title>2</title>\n<path fill=\"#eead7e\" stroke=\"black\" d=\"M241,-187C241,-187 140,-187 140,-187 134,-187 128,-181 128,-175 128,-175 128,-116 128,-116 128,-110 134,-104 140,-104 140,-104 241,-104 241,-104 247,-104 253,-110 253,-116 253,-116 253,-175 253,-175 253,-181 247,-187 241,-187\"/>\n<text text-anchor=\"start\" x=\"138\" y=\"-171.8\" font-family=\"Helvetica,sans-Serif\" font-size=\"14.00\">CenterCalls ≤ 0.5</text>\n<text text-anchor=\"start\" x=\"155\" y=\"-156.8\" font-family=\"Helvetica,sans-Serif\" font-size=\"14.00\">gini = 0.382</text>\n<text text-anchor=\"start\" x=\"145.5\" y=\"-141.8\" font-family=\"Helvetica,sans-Serif\" font-size=\"14.00\">samples = 474</text>\n<text text-anchor=\"start\" x=\"136\" y=\"-126.8\" font-family=\"Helvetica,sans-Serif\" font-size=\"14.00\">value = [352, 122]</text>\n<text text-anchor=\"start\" x=\"156.5\" y=\"-111.8\" font-family=\"Helvetica,sans-Serif\" font-size=\"14.00\">class = NO</text>\n</g>\n<!-- 1&#45;&gt;2 -->\n<g id=\"edge2\" class=\"edge\">\n<title>1&#45;&gt;2</title>\n<path fill=\"none\" stroke=\"black\" d=\"M325.41,-225.03C305.08,-213.2 282.62,-200.12 261.96,-188.09\"/>\n<polygon fill=\"black\" stroke=\"black\" points=\"263.62,-185.02 253.22,-183.01 260.1,-191.06 263.62,-185.02\"/>\n</g>\n<!-- 5 -->\n<g id=\"node6\" class=\"node\">\n<title>5</title>\n<path fill=\"#e6833d\" stroke=\"black\" d=\"M442,-187C442,-187 341,-187 341,-187 335,-187 329,-181 329,-175 329,-175 329,-116 329,-116 329,-110 335,-104 341,-104 341,-104 442,-104 442,-104 448,-104 454,-110 454,-116 454,-116 454,-175 454,-175 454,-181 448,-187 442,-187\"/>\n<text text-anchor=\"start\" x=\"339\" y=\"-171.8\" font-family=\"Helvetica,sans-Serif\" font-size=\"14.00\">CenterCalls ≤ 1.5</text>\n<text text-anchor=\"start\" x=\"356\" y=\"-156.8\" font-family=\"Helvetica,sans-Serif\" font-size=\"14.00\">gini = 0.037</text>\n<text text-anchor=\"start\" x=\"343\" y=\"-141.8\" font-family=\"Helvetica,sans-Serif\" font-size=\"14.00\">samples = 2409</text>\n<text text-anchor=\"start\" x=\"337\" y=\"-126.8\" font-family=\"Helvetica,sans-Serif\" font-size=\"14.00\">value = [2363, 46]</text>\n<text text-anchor=\"start\" x=\"357.5\" y=\"-111.8\" font-family=\"Helvetica,sans-Serif\" font-size=\"14.00\">class = NO</text>\n</g>\n<!-- 1&#45;&gt;5 -->\n<g id=\"edge5\" class=\"edge\">\n<title>1&#45;&gt;5</title>\n<path fill=\"none\" stroke=\"black\" d=\"M391.5,-222.91C391.5,-214.65 391.5,-205.86 391.5,-197.3\"/>\n<polygon fill=\"black\" stroke=\"black\" points=\"395,-197.02 391.5,-187.02 388,-197.02 395,-197.02\"/>\n</g>\n<!-- 3 -->\n<g id=\"node4\" class=\"node\">\n<title>3</title>\n<path fill=\"#e88f4f\" stroke=\"black\" d=\"M105,-68C105,-68 12,-68 12,-68 6,-68 0,-62 0,-56 0,-56 0,-12 0,-12 0,-6 6,0 12,0 12,0 105,0 105,0 111,0 117,-6 117,-12 117,-12 117,-56 117,-56 117,-62 111,-68 105,-68\"/>\n<text text-anchor=\"start\" x=\"23\" y=\"-52.8\" font-family=\"Helvetica,sans-Serif\" font-size=\"14.00\">gini = 0.182</text>\n<text text-anchor=\"start\" x=\"13.5\" y=\"-37.8\" font-family=\"Helvetica,sans-Serif\" font-size=\"14.00\">samples = 286</text>\n<text text-anchor=\"start\" x=\"8\" y=\"-22.8\" font-family=\"Helvetica,sans-Serif\" font-size=\"14.00\">value = [257, 29]</text>\n<text text-anchor=\"start\" x=\"24.5\" y=\"-7.8\" font-family=\"Helvetica,sans-Serif\" font-size=\"14.00\">class = NO</text>\n</g>\n<!-- 2&#45;&gt;3 -->\n<g id=\"edge3\" class=\"edge\">\n<title>2&#45;&gt;3</title>\n<path fill=\"none\" stroke=\"black\" d=\"M141.35,-103.73C129.91,-94.24 117.76,-84.16 106.38,-74.72\"/>\n<polygon fill=\"black\" stroke=\"black\" points=\"108.57,-71.99 98.64,-68.3 104.1,-77.38 108.57,-71.99\"/>\n</g>\n<!-- 4 -->\n<g id=\"node5\" class=\"node\">\n<title>4</title>\n<path fill=\"#fefcfb\" stroke=\"black\" d=\"M233.5,-68C233.5,-68 147.5,-68 147.5,-68 141.5,-68 135.5,-62 135.5,-56 135.5,-56 135.5,-12 135.5,-12 135.5,-6 141.5,0 147.5,0 147.5,0 233.5,0 233.5,0 239.5,0 245.5,-6 245.5,-12 245.5,-12 245.5,-56 245.5,-56 245.5,-62 239.5,-68 233.5,-68\"/>\n<text text-anchor=\"start\" x=\"162.5\" y=\"-52.8\" font-family=\"Helvetica,sans-Serif\" font-size=\"14.00\">gini = 0.5</text>\n<text text-anchor=\"start\" x=\"145.5\" y=\"-37.8\" font-family=\"Helvetica,sans-Serif\" font-size=\"14.00\">samples = 188</text>\n<text text-anchor=\"start\" x=\"143.5\" y=\"-22.8\" font-family=\"Helvetica,sans-Serif\" font-size=\"14.00\">value = [95, 93]</text>\n<text text-anchor=\"start\" x=\"156.5\" y=\"-7.8\" font-family=\"Helvetica,sans-Serif\" font-size=\"14.00\">class = NO</text>\n</g>\n<!-- 2&#45;&gt;4 -->\n<g id=\"edge4\" class=\"edge\">\n<title>2&#45;&gt;4</title>\n<path fill=\"none\" stroke=\"black\" d=\"M190.5,-103.73C190.5,-95.52 190.5,-86.86 190.5,-78.56\"/>\n<polygon fill=\"black\" stroke=\"black\" points=\"194,-78.3 190.5,-68.3 187,-78.3 194,-78.3\"/>\n</g>\n<!-- 6 -->\n<g id=\"node7\" class=\"node\">\n<title>6</title>\n<path fill=\"#e5823a\" stroke=\"black\" d=\"M377,-68C377,-68 276,-68 276,-68 270,-68 264,-62 264,-56 264,-56 264,-12 264,-12 264,-6 270,0 276,0 276,0 377,0 377,0 383,0 389,-6 389,-12 389,-12 389,-56 389,-56 389,-62 383,-68 377,-68\"/>\n<text text-anchor=\"start\" x=\"294.5\" y=\"-52.8\" font-family=\"Helvetica,sans-Serif\" font-size=\"14.00\">gini = 0.01</text>\n<text text-anchor=\"start\" x=\"278\" y=\"-37.8\" font-family=\"Helvetica,sans-Serif\" font-size=\"14.00\">samples = 2080</text>\n<text text-anchor=\"start\" x=\"272\" y=\"-22.8\" font-family=\"Helvetica,sans-Serif\" font-size=\"14.00\">value = [2070, 10]</text>\n<text text-anchor=\"start\" x=\"292.5\" y=\"-7.8\" font-family=\"Helvetica,sans-Serif\" font-size=\"14.00\">class = NO</text>\n</g>\n<!-- 5&#45;&gt;6 -->\n<g id=\"edge6\" class=\"edge\">\n<title>5&#45;&gt;6</title>\n<path fill=\"none\" stroke=\"black\" d=\"M367.3,-103.73C362.1,-94.97 356.6,-85.7 351.38,-76.91\"/>\n<polygon fill=\"black\" stroke=\"black\" points=\"354.38,-75.11 346.27,-68.3 348.36,-78.69 354.38,-75.11\"/>\n</g>\n<!-- 7 -->\n<g id=\"node8\" class=\"node\">\n<title>7</title>\n<path fill=\"#e89051\" stroke=\"black\" d=\"M512,-68C512,-68 419,-68 419,-68 413,-68 407,-62 407,-56 407,-56 407,-12 407,-12 407,-6 413,0 419,0 419,0 512,0 512,0 518,0 524,-6 524,-12 524,-12 524,-56 524,-56 524,-62 518,-68 512,-68\"/>\n<text text-anchor=\"start\" x=\"430\" y=\"-52.8\" font-family=\"Helvetica,sans-Serif\" font-size=\"14.00\">gini = 0.195</text>\n<text text-anchor=\"start\" x=\"420.5\" y=\"-37.8\" font-family=\"Helvetica,sans-Serif\" font-size=\"14.00\">samples = 329</text>\n<text text-anchor=\"start\" x=\"415\" y=\"-22.8\" font-family=\"Helvetica,sans-Serif\" font-size=\"14.00\">value = [293, 36]</text>\n<text text-anchor=\"start\" x=\"431.5\" y=\"-7.8\" font-family=\"Helvetica,sans-Serif\" font-size=\"14.00\">class = NO</text>\n</g>\n<!-- 5&#45;&gt;7 -->\n<g id=\"edge7\" class=\"edge\">\n<title>5&#45;&gt;7</title>\n<path fill=\"none\" stroke=\"black\" d=\"M419.05,-103.73C425.03,-94.88 431.37,-85.51 437.37,-76.63\"/>\n<polygon fill=\"black\" stroke=\"black\" points=\"440.3,-78.54 443,-68.3 434.5,-74.63 440.3,-78.54\"/>\n</g>\n<!-- 9 -->\n<g id=\"node10\" class=\"node\">\n<title>9</title>\n<path fill=\"#a6d3f3\" stroke=\"black\" d=\"M708.5,-187C708.5,-187 606.5,-187 606.5,-187 600.5,-187 594.5,-181 594.5,-175 594.5,-175 594.5,-116 594.5,-116 594.5,-110 600.5,-104 606.5,-104 606.5,-104 708.5,-104 708.5,-104 714.5,-104 720.5,-110 720.5,-116 720.5,-116 720.5,-175 720.5,-175 720.5,-181 714.5,-187 708.5,-187\"/>\n<text text-anchor=\"start\" x=\"602.5\" y=\"-171.8\" font-family=\"Helvetica,sans-Serif\" font-size=\"14.00\">AverageBill ≤ 19.5</text>\n<text text-anchor=\"start\" x=\"622\" y=\"-156.8\" font-family=\"Helvetica,sans-Serif\" font-size=\"14.00\">gini = 0.458</text>\n<text text-anchor=\"start\" x=\"612.5\" y=\"-141.8\" font-family=\"Helvetica,sans-Serif\" font-size=\"14.00\">samples = 510</text>\n<text text-anchor=\"start\" x=\"603\" y=\"-126.8\" font-family=\"Helvetica,sans-Serif\" font-size=\"14.00\">value = [181, 329]</text>\n<text text-anchor=\"start\" x=\"620.5\" y=\"-111.8\" font-family=\"Helvetica,sans-Serif\" font-size=\"14.00\">class = YES</text>\n</g>\n<!-- 8&#45;&gt;9 -->\n<g id=\"edge9\" class=\"edge\">\n<title>8&#45;&gt;9</title>\n<path fill=\"none\" stroke=\"black\" d=\"M657.5,-222.91C657.5,-214.65 657.5,-205.86 657.5,-197.3\"/>\n<polygon fill=\"black\" stroke=\"black\" points=\"661,-197.02 657.5,-187.02 654,-197.02 661,-197.02\"/>\n</g>\n<!-- 12 -->\n<g id=\"node13\" class=\"node\">\n<title>12</title>\n<path fill=\"#eda673\" stroke=\"black\" d=\"M933,-187C933,-187 812,-187 812,-187 806,-187 800,-181 800,-175 800,-175 800,-116 800,-116 800,-110 806,-104 812,-104 812,-104 933,-104 933,-104 939,-104 945,-110 945,-116 945,-116 945,-175 945,-175 945,-181 939,-187 933,-187\"/>\n<text text-anchor=\"start\" x=\"808\" y=\"-171.8\" font-family=\"Helvetica,sans-Serif\" font-size=\"14.00\">Technology_2G ≤ 0.5</text>\n<text text-anchor=\"start\" x=\"837\" y=\"-156.8\" font-family=\"Helvetica,sans-Serif\" font-size=\"14.00\">gini = 0.351</text>\n<text text-anchor=\"start\" x=\"827.5\" y=\"-141.8\" font-family=\"Helvetica,sans-Serif\" font-size=\"14.00\">samples = 607</text>\n<text text-anchor=\"start\" x=\"818\" y=\"-126.8\" font-family=\"Helvetica,sans-Serif\" font-size=\"14.00\">value = [469, 138]</text>\n<text text-anchor=\"start\" x=\"838.5\" y=\"-111.8\" font-family=\"Helvetica,sans-Serif\" font-size=\"14.00\">class = NO</text>\n</g>\n<!-- 8&#45;&gt;12 -->\n<g id=\"edge12\" class=\"edge\">\n<title>8&#45;&gt;12</title>\n<path fill=\"none\" stroke=\"black\" d=\"M720.55,-229.19C742.64,-217.17 767.76,-203.5 791.13,-190.78\"/>\n<polygon fill=\"black\" stroke=\"black\" points=\"792.88,-193.81 799.99,-185.96 789.53,-187.67 792.88,-193.81\"/>\n</g>\n<!-- 10 -->\n<g id=\"node11\" class=\"node\">\n<title>10</title>\n<path fill=\"#59ade9\" stroke=\"black\" d=\"M640.5,-68C640.5,-68 554.5,-68 554.5,-68 548.5,-68 542.5,-62 542.5,-56 542.5,-56 542.5,-12 542.5,-12 542.5,-6 548.5,0 554.5,0 554.5,0 640.5,0 640.5,0 646.5,0 652.5,-6 652.5,-12 652.5,-12 652.5,-56 652.5,-56 652.5,-62 646.5,-68 640.5,-68\"/>\n<text text-anchor=\"start\" x=\"562\" y=\"-52.8\" font-family=\"Helvetica,sans-Serif\" font-size=\"14.00\">gini = 0.239</text>\n<text text-anchor=\"start\" x=\"552.5\" y=\"-37.8\" font-family=\"Helvetica,sans-Serif\" font-size=\"14.00\">samples = 108</text>\n<text text-anchor=\"start\" x=\"550.5\" y=\"-22.8\" font-family=\"Helvetica,sans-Serif\" font-size=\"14.00\">value = [15, 93]</text>\n<text text-anchor=\"start\" x=\"560.5\" y=\"-7.8\" font-family=\"Helvetica,sans-Serif\" font-size=\"14.00\">class = YES</text>\n</g>\n<!-- 9&#45;&gt;10 -->\n<g id=\"edge10\" class=\"edge\">\n<title>9&#45;&gt;10</title>\n<path fill=\"none\" stroke=\"black\" d=\"M635.16,-103.73C630.41,-95.06 625.39,-85.9 620.61,-77.18\"/>\n<polygon fill=\"black\" stroke=\"black\" points=\"623.62,-75.39 615.75,-68.3 617.48,-78.75 623.62,-75.39\"/>\n</g>\n<!-- 11 -->\n<g id=\"node12\" class=\"node\">\n<title>11</title>\n<path fill=\"#c4e2f7\" stroke=\"black\" d=\"M784,-68C784,-68 683,-68 683,-68 677,-68 671,-62 671,-56 671,-56 671,-12 671,-12 671,-6 677,0 683,0 683,0 784,0 784,0 790,0 796,-6 796,-12 796,-12 796,-56 796,-56 796,-62 790,-68 784,-68\"/>\n<text text-anchor=\"start\" x=\"698\" y=\"-52.8\" font-family=\"Helvetica,sans-Serif\" font-size=\"14.00\">gini = 0.485</text>\n<text text-anchor=\"start\" x=\"688.5\" y=\"-37.8\" font-family=\"Helvetica,sans-Serif\" font-size=\"14.00\">samples = 402</text>\n<text text-anchor=\"start\" x=\"679\" y=\"-22.8\" font-family=\"Helvetica,sans-Serif\" font-size=\"14.00\">value = [166, 236]</text>\n<text text-anchor=\"start\" x=\"696.5\" y=\"-7.8\" font-family=\"Helvetica,sans-Serif\" font-size=\"14.00\">class = YES</text>\n</g>\n<!-- 9&#45;&gt;11 -->\n<g id=\"edge11\" class=\"edge\">\n<title>9&#45;&gt;11</title>\n<path fill=\"none\" stroke=\"black\" d=\"M685.8,-103.73C691.94,-94.88 698.44,-85.51 704.61,-76.63\"/>\n<polygon fill=\"black\" stroke=\"black\" points=\"707.56,-78.51 710.39,-68.3 701.81,-74.52 707.56,-78.51\"/>\n</g>\n<!-- 13 -->\n<g id=\"node14\" class=\"node\">\n<title>13</title>\n<path fill=\"#ea9a60\" stroke=\"black\" d=\"M919,-68C919,-68 826,-68 826,-68 820,-68 814,-62 814,-56 814,-56 814,-12 814,-12 814,-6 820,0 826,0 826,0 919,0 919,0 925,0 931,-6 931,-12 931,-12 931,-56 931,-56 931,-62 925,-68 919,-68\"/>\n<text text-anchor=\"start\" x=\"837\" y=\"-52.8\" font-family=\"Helvetica,sans-Serif\" font-size=\"14.00\">gini = 0.275</text>\n<text text-anchor=\"start\" x=\"827.5\" y=\"-37.8\" font-family=\"Helvetica,sans-Serif\" font-size=\"14.00\">samples = 505</text>\n<text text-anchor=\"start\" x=\"822\" y=\"-22.8\" font-family=\"Helvetica,sans-Serif\" font-size=\"14.00\">value = [422, 83]</text>\n<text text-anchor=\"start\" x=\"838.5\" y=\"-7.8\" font-family=\"Helvetica,sans-Serif\" font-size=\"14.00\">class = NO</text>\n</g>\n<!-- 12&#45;&gt;13 -->\n<g id=\"edge13\" class=\"edge\">\n<title>12&#45;&gt;13</title>\n<path fill=\"none\" stroke=\"black\" d=\"M872.5,-103.73C872.5,-95.52 872.5,-86.86 872.5,-78.56\"/>\n<polygon fill=\"black\" stroke=\"black\" points=\"876,-78.3 872.5,-68.3 869,-78.3 876,-78.3\"/>\n</g>\n<!-- 14 -->\n<g id=\"node15\" class=\"node\">\n<title>14</title>\n<path fill=\"#e2f1fb\" stroke=\"black\" d=\"M1047.5,-68C1047.5,-68 961.5,-68 961.5,-68 955.5,-68 949.5,-62 949.5,-56 949.5,-56 949.5,-12 949.5,-12 949.5,-6 955.5,0 961.5,0 961.5,0 1047.5,0 1047.5,0 1053.5,0 1059.5,-6 1059.5,-12 1059.5,-12 1059.5,-56 1059.5,-56 1059.5,-62 1053.5,-68 1047.5,-68\"/>\n<text text-anchor=\"start\" x=\"969\" y=\"-52.8\" font-family=\"Helvetica,sans-Serif\" font-size=\"14.00\">gini = 0.497</text>\n<text text-anchor=\"start\" x=\"959.5\" y=\"-37.8\" font-family=\"Helvetica,sans-Serif\" font-size=\"14.00\">samples = 102</text>\n<text text-anchor=\"start\" x=\"957.5\" y=\"-22.8\" font-family=\"Helvetica,sans-Serif\" font-size=\"14.00\">value = [47, 55]</text>\n<text text-anchor=\"start\" x=\"967.5\" y=\"-7.8\" font-family=\"Helvetica,sans-Serif\" font-size=\"14.00\">class = YES</text>\n</g>\n<!-- 12&#45;&gt;14 -->\n<g id=\"edge14\" class=\"edge\">\n<title>12&#45;&gt;14</title>\n<path fill=\"none\" stroke=\"black\" d=\"M921.65,-103.73C933.09,-94.24 945.24,-84.16 956.62,-74.72\"/>\n<polygon fill=\"black\" stroke=\"black\" points=\"958.9,-77.38 964.36,-68.3 954.43,-71.99 958.9,-77.38\"/>\n</g>\n</g>\n</svg>\n",
            "text/plain": [
              "<graphviz.sources.Source at 0x7ae6d0496410>"
            ]
          },
          "metadata": {},
          "execution_count": 6
        }
      ]
    },
    {
      "cell_type": "code",
      "source": [
        "# 생성된 의사결정 트리를 활용해 분류\n",
        "df_predict = pd.read_excel('telecom_new.xlsx')\n",
        "df_predict = pd.get_dummies(df_predict, columns = ['Technology'])\n",
        "\n",
        "tree_prediction = tree_model.predict(df_predict)\n",
        "tree_prediction"
      ],
      "metadata": {
        "colab": {
          "base_uri": "https://localhost:8080/"
        },
        "id": "eXy5vpdBwoOF",
        "outputId": "364f39e2-567c-4deb-ff2e-831a96037d54"
      },
      "execution_count": 7,
      "outputs": [
        {
          "output_type": "execute_result",
          "data": {
            "text/plain": [
              "array(['NO', 'NO', 'YES', 'NO', 'NO', 'NO', 'YES'], dtype=object)"
            ]
          },
          "metadata": {},
          "execution_count": 7
        }
      ]
    }
  ]
}