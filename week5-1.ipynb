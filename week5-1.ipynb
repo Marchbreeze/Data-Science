{
  "nbformat": 4,
  "nbformat_minor": 0,
  "metadata": {
    "colab": {
      "provenance": [],
      "mount_file_id": "1nWTe6fJdPf4FZhEayb5rxk5yQv7dNUiK",
      "authorship_tag": "ABX9TyMb0yHWgIN6756qayd4SAeT",
      "include_colab_link": true
    },
    "kernelspec": {
      "name": "python3",
      "display_name": "Python 3"
    },
    "language_info": {
      "name": "python"
    }
  },
  "cells": [
    {
      "cell_type": "markdown",
      "metadata": {
        "id": "view-in-github",
        "colab_type": "text"
      },
      "source": [
        "<a href=\"https://colab.research.google.com/github/Marchbreeze/KU-Data-Science/blob/main/week5-1.ipynb\" target=\"_parent\"><img src=\"https://colab.research.google.com/assets/colab-badge.svg\" alt=\"Open In Colab\"/></a>"
      ]
    },
    {
      "cell_type": "code",
      "execution_count": 5,
      "metadata": {
        "colab": {
          "base_uri": "https://localhost:8080/"
        },
        "id": "euD4Jwl0TryN",
        "outputId": "7b432748-96c1-447d-8b84-51cc35ccf7c5"
      },
      "outputs": [
        {
          "output_type": "execute_result",
          "data": {
            "text/plain": [
              "array([223.52732146, 224.97237723, 278.22617706, 225.56972787,\n",
              "       203.69507012, 221.95872734, 206.98157694, 198.84623827,\n",
              "       265.45563879, 230.24905819, 181.00377126, 258.3184048 ,\n",
              "       209.131353  , 213.55556769, 277.34225618, 248.31442747,\n",
              "       216.36379344, 261.77779206, 211.98080589, 246.76592418,\n",
              "       219.14836521, 242.36642385, 229.19745871, 246.58309307,\n",
              "       202.20238607, 255.2829823 , 224.83708533, 201.49959911,\n",
              "       198.91363557, 206.06320189, 221.31777721, 248.22851004,\n",
              "       258.43314747, 224.07208721, 225.9926627 , 224.39663525,\n",
              "       214.85447795, 220.26979407, 201.28146784, 267.31276239,\n",
              "       210.91544881, 236.029723  , 239.46806481, 242.33382424,\n",
              "       249.79605826, 220.25948958, 216.03915791, 230.40557755,\n",
              "       273.24493433, 241.16572666, 270.19805562, 200.29247656,\n",
              "       223.4505752 , 235.91082173, 234.98635833, 209.05859773,\n",
              "       202.00456442, 286.5585544 , 192.24510093, 206.80776245])"
            ]
          },
          "metadata": {},
          "execution_count": 5
        }
      ],
      "source": [
        "# 이전주차 코드\n",
        "import pandas as pd\n",
        "import matplotlib.pyplot as plt\n",
        "from sklearn.model_selection import train_test_split\n",
        "from sklearn.linear_model import LinearRegression\n",
        "\n",
        "df = pd.read_csv('score.csv')\n",
        "df_x = df[['1st', '2nd', '3rd', '6mo', '9mo']]\n",
        "df_y = df['suneung']\n",
        "x_train, x_valid, y_train, y_valid = train_test_split(df_x, df_y, random_state = 0, test_size = 0.20)\n",
        "reg = LinearRegression()\n",
        "reg.fit(x_train, y_train)\n",
        "y_pred = reg.predict(x_valid)\n",
        "y_pred"
      ]
    },
    {
      "cell_type": "code",
      "source": [
        "# 결정계수\n",
        "from sklearn.metrics import r2_score\n",
        "\n",
        "# 회귀 식을 적용했을 때의 결정계수 계산\n",
        "r2_score(y_valid, y_pred)"
      ],
      "metadata": {
        "colab": {
          "base_uri": "https://localhost:8080/"
        },
        "id": "ZkPGPdyBVtfl",
        "outputId": "2b3e7306-0331-42c0-be22-1e405a50c218"
      },
      "execution_count": 8,
      "outputs": [
        {
          "output_type": "execute_result",
          "data": {
            "text/plain": [
              "0.7503146569385967"
            ]
          },
          "metadata": {},
          "execution_count": 8
        }
      ]
    },
    {
      "cell_type": "code",
      "source": [
        "# 평균제곱오차\n",
        "from sklearn.metrics import mean_squared_error\n",
        "\n",
        "mean_squared_error(y_valid, y_pred)"
      ],
      "metadata": {
        "id": "0mbDw1Z-V_kw"
      },
      "execution_count": null,
      "outputs": []
    },
    {
      "cell_type": "code",
      "source": [
        "# 평균절대오차\n",
        "from sklearn.metrics import mean_absolute_error\n",
        "\n",
        "mean_absolute_error(y_valid, y_pred)"
      ],
      "metadata": {
        "colab": {
          "base_uri": "https://localhost:8080/"
        },
        "id": "a1ttpc6WWz3Z",
        "outputId": "322c1479-d37d-4c50-d36c-7ee6688734de"
      },
      "execution_count": 11,
      "outputs": [
        {
          "output_type": "execute_result",
          "data": {
            "text/plain": [
              "12.62007264622465"
            ]
          },
          "metadata": {},
          "execution_count": 11
        }
      ]
    },
    {
      "cell_type": "code",
      "source": [
        "# 라쏘 정규화\n",
        "from sklearn.linear_model import Lasso\n",
        "\n",
        "reg_Lasso = Lasso(alpha = 15)\n",
        "reg_Lasso.fit(x_train, y_train)\n",
        "y_pred_Lasso = reg_Lasso.predict(x_valid)\n",
        "\n",
        "print(reg_Lasso.coef_)\n",
        "print(reg_Lasso.intercept_)"
      ],
      "metadata": {
        "colab": {
          "base_uri": "https://localhost:8080/"
        },
        "id": "cyTjIYhoiRz5",
        "outputId": "2723c24f-7ece-4a13-c837-503fe203860e"
      },
      "execution_count": 17,
      "outputs": [
        {
          "output_type": "stream",
          "name": "stdout",
          "text": [
            "[-0.         -2.31359051 -4.26078791  0.12792057  0.32167075]\n",
            "164.12359607731386\n"
          ]
        }
      ]
    },
    {
      "cell_type": "code",
      "source": [
        "# 릿지 정규화\n",
        "from sklearn.linear_model import Ridge\n",
        "\n",
        "reg_Ridge = Ridge(alpha = 15)\n",
        "reg_Ridge.fit(x_train, y_train)\n",
        "y_pred_Ridge = reg_Ridge.predict(x_valid)\n",
        "\n",
        "print(reg_Ridge.coef_)\n",
        "print(reg_Ridge.intercept_)"
      ],
      "metadata": {
        "colab": {
          "base_uri": "https://localhost:8080/"
        },
        "id": "cWx-eEbXicN1",
        "outputId": "3dbecd79-dbd2-4ddf-ce01-c009df5ac19b"
      },
      "execution_count": 18,
      "outputs": [
        {
          "output_type": "stream",
          "name": "stdout",
          "text": [
            "[ -4.02478466  -7.66551646 -10.69847705   0.22189356   0.51967997]\n",
            "173.88435257774162\n"
          ]
        }
      ]
    }
  ]
}